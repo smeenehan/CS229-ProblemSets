{
 "cells": [
  {
   "cell_type": "code",
   "execution_count": 1,
   "metadata": {
    "collapsed": true
   },
   "outputs": [],
   "source": [
    "import numpy as np\n",
    "from numpy.random import randint as randint\n",
    "import matplotlib.pyplot as plt\n",
    "import csv"
   ]
  },
  {
   "cell_type": "markdown",
   "metadata": {},
   "source": [
    "**Constructing kernels**\n",
    "\n",
    "Let $K_1$, $K_2$ be (Mercer) kernels over $\\mathbb{R}^n\\times \\mathbb{R}^n$, let $a \\in \\mathbb{R}^+$ be a positive real number, let $f : \\mathbb{R}^n \\rightarrow \\mathbb{R}$ be a real-valued function, let $\\phi : \\mathbb{R}^n \\rightarrow \\mathbb{R}^d$ be a function mapping from $\\mathbb{R}^n$ to $\\mathbb{R}^d$, let $K_3$ be a kernel over $\\mathbb{R}^d \\times \\mathbb{R}^d$, and let $p(x)$ be a polynomial over $x$ with *positive* coefficients. We know want to know which of the following functions are also kernels. That is, which are symmetric, positive semi-definite matrices for some finite set $\\{x^{(1)},...,x^{(m)}\\}$."
   ]
  },
  {
   "cell_type": "markdown",
   "metadata": {},
   "source": [
    "(a) $K(x,z) = K_1(x,z) + K_2(x,z)$\n",
    "\n",
    "This is clearly a kernel. Using the fact that $K_1$ and $K_2$ are kernels, and therefore symmetric, we find $K_{ji} = K_{1,ji} + K_{2,ji} = K_{1,ij} + K_{2,ij} = K_{ij}$, so that $K$ is symmetric. Similarly, the fact that $z^T Kz \\geq 0$, $\\forall z \\in \\mathbb{R}^n$ follows from linearity and the positive semi-definite nature of both $K_1$ and $K_2$"
   ]
  },
  {
   "cell_type": "markdown",
   "metadata": {},
   "source": [
    "(b) $K(x,z) = K_1(x,z) - K_2(x,z)$\n",
    "\n",
    "This is not a kernel. Let $K_2 = b K_1$, $b >1$ and $b \\in \\mathbb{R}^+$. Then, notice that $z^T Kz = (1-b) (z^T K_1z) \\leq 0$ since $K_1$ is positive semi-definite. So, in this case $K$ is negative semi-definite"
   ]
  },
  {
   "cell_type": "markdown",
   "metadata": {},
   "source": [
    "(c) $K(x,z) = aK_1(x,z)$\n",
    "\n",
    "This is a kernel. Transposition and matrix multiplication commute with scalar multiplication, and $K$ is therefore symmetric following directly from the symmetric nature of $K_1$. Since $a$ is a *positive* real, and $K_1$ is positive semi-definite, the positive semi-definite nature of $K$ follows in a similar fashion."
   ]
  },
  {
   "cell_type": "markdown",
   "metadata": {},
   "source": [
    "(d) $K(x,z) = -aK_1(x,z)$\n",
    "\n",
    "This is *not* a kernel. In particular, notice that $z^T Kz = -az^T K_1 z \\leq 0$ since $K_1$ is positive semi-definite and $a$ is a positive real. This means that $K$ is a negative semi-definite matrix and cannot be a kernel."
   ]
  },
  {
   "cell_type": "markdown",
   "metadata": {},
   "source": [
    "(e) $K(x,z) = K_1(x,z)K_2(x,z)$\n",
    "\n",
    "This is a kernel. Recall that, as kernels, we can write $K_1(x,z) = \\phi_1^T(x) \\phi_1(z)$ and $K_2 = \\phi_2^T(x) \\phi_2(z)$. Thus, $K(x,z) = \\phi_1^T(x) \\phi_1(z) \\phi_2^T(x) \\phi_2(z) = \\sum_{i,j} \\phi_{1,i}(x) \\phi_{1,i}(z) \\phi_{2,j}(x) \\phi_{2,j}(z)$. If we define $\\Phi = \\phi_1 \\otimes \\phi_2 \\rightarrow \\Phi_{i,j} = \\phi_{1,i} \\phi_{2,j}$, we then have $K(x,z) = \\Phi(x)^T \\Phi$, so $K$ has the appropriate form to be a kernel as well."
   ]
  },
  {
   "cell_type": "markdown",
   "metadata": {},
   "source": [
    "(f) $K(x,z) = f(x)f(z)$.\n",
    "\n",
    "This is a kernel. Since $f$ is a scalar, we can just define $\\phi = f$ and $K$ trivially has the form $K(x,z) = \\phi^T(x) \\phi(z)$"
   ]
  },
  {
   "cell_type": "markdown",
   "metadata": {},
   "source": [
    "**Kernelizing the perceptron**\n",
    "\n",
    "The original update rule we want to modify is $\\theta := \\theta + \\alpha y^{(i)} x^{(i)}$ if $y^{(i)}h\\left(x^{(i)}\\right) < 0$, and $\\theta := \\theta$ otherwise. Working in the high-dimensional space, we now use the modified update rule $\\theta := \\theta + \n",
    "\\alpha \\left(y^{(i)}-h\\left(\\theta^T \\phi\\left(x^{(i)}\\right)\\right)\\right)\\phi\\left(x^{(i)}\\right)$. Note that this follows the same spirit as the original update rule: if $h(\\phi)$ makes a correct predicition (same sign as the target), no update is made, whereas making an incorrect prediction causes $\\theta$ to be moved in the right direction to push the margin $y^{(i)}\\theta^T x^{(i)}$ towards a positive number.\n",
    "\n",
    "Now, if we initialize $\\theta = 0$, we will always have $\\theta = \\sum_{i=0}^n \\beta_i \\phi\\left(x^{(i)}\\right)$ after the first $n$ coefficients, so that predictions can be made just using the kernel: $h\\left(\\theta^T \\phi(x)\\right) = h\\left(\\sum_{i=0}^n \\beta_i K\\left(x^{(i)},x\\right)\\right)$.\n",
    "\n",
    "To train the perceptron, we initialize the coefficients ${\\beta_0,...\\beta_m} = 0$. Then, the $(n+1)$-th term is computed using the update rule and the kernel as $\\beta_{n+1} = y^{(n+1)}-h\\left(\\sum_{i=0}^{n} \\beta_i K\\left(x^{(i)},x\\right)\\right)$."
   ]
  },
  {
   "cell_type": "markdown",
   "metadata": {},
   "source": [
    "**Spam classification**\n",
    "\n",
    "We'll tackle the problem of spam classification, first using Naive Bayes. First, let's make a function to read in the training and test data in the form of a document-word matrix, where the $(i,j)$-th element of the matrix indicates how many instances of word $j$ from our list of token occurs within document $i$."
   ]
  },
  {
   "cell_type": "code",
   "execution_count": 2,
   "metadata": {
    "collapsed": true
   },
   "outputs": [],
   "source": [
    "def readDocWordMatrix(fileName):\n",
    "    file = open(fileName,'r')\n",
    "    file.readline() # meaningless header\n",
    "    [nDocs,nToks] = [int(s) for s in file.readline().split()]\n",
    "    docWordMat = np.zeros((nDocs,nToks))\n",
    "    tokens = file.readline().split()\n",
    "    categories = np.zeros(nDocs)\n",
    "    for idx,line in enumerate(file):\n",
    "        nums = [int(s) for s in line.split()]\n",
    "        categories[idx] = nums[0]\n",
    "        lastIdx = len(nums)-1\n",
    "        docWordMat[idx,np.cumsum(nums[1:lastIdx:2])] = nums[2:lastIdx:2]\n",
    "    file.close()\n",
    "    return docWordMat,tokens,categories"
   ]
  },
  {
   "cell_type": "markdown",
   "metadata": {},
   "source": [
    "Now, we compute the Naive Bayes parameters from the traiing set, using Laplace smoothing. Using the multinomial event model, the relevant parameters are then given by \n",
    "\n",
    "$\\phi_{k|y=1} = p(x_j=k|y=1) = \\frac{1+\\sum 1\\left\\{x_j^{(i)}=k \\wedge y^{(i)}=1\\right\\}}{|V|+\\sum 1\\left\\{y^{(i)}=1\\right\\}n_i}$,\n",
    "\n",
    "$\\phi_{k|y=0} = p(x_j=k|y=0) = \\frac{1+\\sum 1\\left\\{x_j^{(i)}=k \\wedge y^{(i)}=0\\right\\}}{|V|+\\sum 1\\left\\{y^{(i)}=0\\right\\}n_i}$,\n",
    "\n",
    "$\\phi_{y=1} = p(y=1) = \\frac{\\sum 1\\left\\{y^{(i)}=1\\right\\}}{m}$,\n",
    "\n",
    "where $|V|$ is the size of the vocabulary, $n_i$ is the total number of words in each training example."
   ]
  },
  {
   "cell_type": "code",
   "execution_count": 3,
   "metadata": {
    "collapsed": true
   },
   "outputs": [],
   "source": [
    "def trainNaiveBayes(file):\n",
    "    docWordMat,tokens,categories = readDocWordMatrix(file)\n",
    "    numWords = np.sum(docWordMat,axis=1)\n",
    "    numTokens = len(tokens)\n",
    "    likelihoodSpam = np.zeros(numTokens)\n",
    "    likelihoodNoSpam = np.zeros(numTokens)\n",
    "    probSpam= np.sum(categories)/len(categories)\n",
    "    for idx in range(numTokens):\n",
    "        likelihoodSpam[idx] = (np.sum(docWordMat[categories==1,idx])+1)/(np.sum(numWords[categories==1])+numTokens)\n",
    "        likelihoodNoSpam[idx] = (np.sum(docWordMat[categories==0,idx])+1)/(np.sum(numWords[categories==0])+numTokens)\n",
    "    return likelihoodSpam,likelihoodNoSpam,probSpam"
   ]
  },
  {
   "cell_type": "code",
   "execution_count": 4,
   "metadata": {
    "collapsed": true
   },
   "outputs": [],
   "source": [
    "likelihoodSpam,likelihoodNoSpam,probSpam = trainNaiveBayes('MATRIX.TRAIN')"
   ]
  },
  {
   "cell_type": "markdown",
   "metadata": {},
   "source": [
    "Now, we evaluate on the test set. For each document (row in the document-word matrix), we'll compute the conditional probability of seeing that word vector $x$ if the document is spam ($y = 1$) using the following formula:\n",
    "\n",
    "$p(x|y=1) = \\prod_{x_i} \\left(\\phi_{i|y=1}\\right)^{x_i}$\n",
    "\n",
    "and similarly for $y=0$. Then the probability of the document being spam is simply computed as \n",
    "\n",
    "$p(y=1|x) = \\frac{p(x|y=1)\\phi_{y=1}}{p(x|y=0)(1-\\phi_{y=1})+p(x|y=1)\\phi_{y=1}}$,\n",
    "\n",
    "With the e-mail being classified as spam if $p(y=1|x) \\geq 0.5$. \n",
    "\n",
    "The issue here is that most of the $\\phi_{i|y=1}$ and $\\phi_{i|y=0}$ are quite small, so we worry about underflow due to the product of so many small numbers. Thus, we look at the logarithm of the probability, converting the products to sums, and ignore the denominator (since it is only there for normalization). Thus, we compute\n",
    "\n",
    "$l_1 = ln\\left(p(x|y=1)\\phi_{y=1}\\right) = ln\\left(\\phi_{y=1}\\right) + \\sum_{x_i} x_i ln\\left(\\phi_{i|y=1}\\right)$,\n",
    "\n",
    "$l_0 = ln\\left(p(x|y=0)\\phi_{y=0}\\right) = ln\\left(1-\\phi_{y=1}\\right) + \\sum_{x_i} x_i ln\\left(\\phi_{i|y=0}\\right)$,\n",
    "\n",
    "and classify as spam if $e^{l_1} > e^{l_0}$, or equivalently $l_1 > l_0$."
   ]
  },
  {
   "cell_type": "code",
   "execution_count": 5,
   "metadata": {
    "collapsed": true
   },
   "outputs": [],
   "source": [
    "def testNaiveBayes(likelihoodSpam,likelihoodNoSpam,probSpam):\n",
    "    docWordMatTest,tokensTest,categoriesTest = readDocWordMatrix('MATRIX.TEST')\n",
    "    numCorrect = 0\n",
    "    for testIdx,testLabel in enumerate(categoriesTest):\n",
    "        testVec = docWordMatTest[testIdx,:]\n",
    "        l1 = np.log(probSpam)+np.dot(testVec,np.log(likelihoodSpam))\n",
    "        l0 = np.log(1-probSpam)+np.dot(testVec,np.log(likelihoodNoSpam))\n",
    "        predictLabel = int(l1 >= l0)\n",
    "        numCorrect += int(predictLabel==int(testLabel))\n",
    "    print(\"Test error is \"+str(100*(1-numCorrect/len(categoriesTest)))+\"%\")"
   ]
  },
  {
   "cell_type": "code",
   "execution_count": 6,
   "metadata": {},
   "outputs": [
    {
     "name": "stdout",
     "output_type": "stream",
     "text": [
      "Test error is 1.6249999999999987%\n"
     ]
    }
   ],
   "source": [
    "testNaiveBayes(likelihoodSpam,likelihoodNoSpam,probSpam)"
   ]
  },
  {
   "cell_type": "markdown",
   "metadata": {},
   "source": [
    "We can also estimate the most likely spam words by looking at which words maximize the quantity $ln\\left(\\frac{\\phi_{k|y=1}}{\\phi_{k|y=0}}\\right)$"
   ]
  },
  {
   "cell_type": "code",
   "execution_count": 7,
   "metadata": {},
   "outputs": [
    {
     "data": {
      "text/plain": [
       "['httpaddr', 'spam', 'unsubscrib', 'ebai', 'valet']"
      ]
     },
     "execution_count": 7,
     "metadata": {},
     "output_type": "execute_result"
    }
   ],
   "source": [
    "docWordMat,tokens,categories = readDocWordMatrix('MATRIX.TRAIN')\n",
    "wordLikelihood = np.log(likelihoodSpam/likelihoodNoSpam)\n",
    "np.argmax(wordLikelihood)\n",
    "sortedInds = np.argsort(wordLikelihood)[::-1]\n",
    "spamTokens = [tokens[s] for s in sortedInds[0:5]]\n",
    "spamTokens"
   ]
  },
  {
   "cell_type": "markdown",
   "metadata": {},
   "source": [
    "We can also see how the accuracy of the classifier converges with the amount of training data. In this case, we can see that even 50-100 documents is still quite good (~2x error compared to the full training set of over 2000 doucments), and the error has converged to that of a full training set already by ~1400 documents."
   ]
  },
  {
   "cell_type": "code",
   "execution_count": 8,
   "metadata": {},
   "outputs": [
    {
     "name": "stdout",
     "output_type": "stream",
     "text": [
      "Training size = 50 documents\n",
      "Test error is 3.874999999999995%\n",
      "Training size = 100 documents\n",
      "Test error is 2.6249999999999996%\n",
      "Training size = 200 documents\n",
      "Test error is 2.6249999999999996%\n",
      "Training size = 400 documents\n",
      "Test error is 1.8750000000000044%\n",
      "Training size = 800 documents\n",
      "Test error is 1.749999999999996%\n",
      "Training size = 1400 documents\n",
      "Test error is 1.6249999999999987%\n"
     ]
    }
   ],
   "source": [
    "trainingSize = ['50','100','200','400','800','1400']\n",
    "for size in trainingSize:\n",
    "    likelihoodSpam,likelihoodNoSpam,probSpam = trainNaiveBayes('MATRIX.TRAIN.'+size)\n",
    "    print('Training size = '+size+' documents')\n",
    "    testNaiveBayes(likelihoodSpam,likelihoodNoSpam,probSpam)"
   ]
  },
  {
   "cell_type": "markdown",
   "metadata": {},
   "source": [
    "**Spam classification 2 - SVM Boogaloo**\n",
    "\n",
    "Now we'll train a support vector machine spam classifier. Rather than using coordinate descent using sequential minimal optimization, we'll use stochastic gradient descent on the regularized empirical loss function\n",
    "\n",
    "$J(\\alpha) = \\frac{1}{m}\\sum\\left[1-y^{(i)}K^{(i),T}\\alpha\\right]_+ +\\frac{\\lambda}{2}\\alpha^T K \\alpha$,\n",
    "\n",
    "where $K^{i}$ is the $i$-th column of the kernel matrix, $[x]_+ = max\\{0,x\\}$, and $lambda$ is the regularization constant. Technically, since the loss function is not differentiable at 0 the gradient descent is sub-gradient descent, but whatevs. It's not mentioned why we're doing things this way vs coordinate descent using sequential minimal optimization. Wikipedia mentions that SGD can be more advantageous compared to SMO if the number of training examples is quite large (since we can change all parameters of $\\alpha$ at once each iteration) and vice versa if the space is very high dimensional (again, since we change *all* parameters of $\\alpha$ at once in SGD). This makes sense, though here I doubt it makes a huge difference. Whatever.\n",
    "\n",
    "For the kernel we're going to use the radial basis function\n",
    "\n",
    "$K(x,z) = exp\\left(\\frac{1}{2\\tau^2}|x-z|^2\\right)$,\n",
    "\n",
    "because Gaussians are easy and magic, and we're given values of all the constant parameters to use because there's no time for shenanigans. We'll also use a step size of $\\frac{1}{\\sqrt{t+1}}$, where $t$ is the iteration number. No reason has been given from this (aside from some comments that it is a typical choice), but some sort of learning rate schedule is typical to give a trade-off between constant large changes to $\\alpha$ that cause instability and super slow convergence. I guess this is just a very simple choice which is good enough. Still not sure why $\\sqrt{t}$ and not $t$, though...\n",
    "\n",
    "Some other quirks specified without explanation: We'll adjust the document-word matrix so that columns are only 0 or 1 (i.e., we only care which words appear, not how often within a document). Not sure why, aside from reasons of feature scaling for stability reasons. We're also going to do *averaged* SGD, where we average all the $\\alpha$ from each step together at the end and report that average value as the result, rather than the final value of $\\alpha$.\n",
    "\n",
    "Okay, enough talk. Now is the time for action!"
   ]
  },
  {
   "cell_type": "code",
   "execution_count": 9,
   "metadata": {
    "collapsed": true
   },
   "outputs": [],
   "source": [
    "def trainAndTestSVM(file,tau=8,iterMult=40,regParam=1/64):\n",
    "    # Import document-word matrix, convert training labels to {1,-1} and convert feature\n",
    "    # vectors to {0,1} vectors\n",
    "    docWordMat,tokens,yTrain = readDocWordMatrix(file)\n",
    "    numTrain = len(yTrain)\n",
    "    yTrain[yTrain<1] = -1\n",
    "    xTrain = (docWordMat>0).astype(int)\n",
    "    \n",
    "    # Compute the kernel for the training data using the radial basis function\n",
    "    xTrainSq = np.tile(np.sum(xTrain**2,axis=1)[:,None],numTrain)\n",
    "    kTrain = np.exp(-(xTrainSq+xTrainSq.T-2*np.dot(xTrain,xTrain.T))/(2*tau**2))\n",
    "\n",
    "    # Stochastic gradient descent for fixed number of iterations\n",
    "    numIter = iterMult*numTrain\n",
    "    alpha = np.zeros(numTrain)\n",
    "    avgAlpha = np.zeros(numTrain)\n",
    "    for idx in range(numIter):\n",
    "        randIdx = randint(0,high=numTrain)\n",
    "        margin = yTrain[randIdx]*np.dot(kTrain[:,randIdx],alpha)\n",
    "        grad = regParam*alpha[randIdx]*kTrain[:,randIdx]-int(margin<1)*yTrain[randIdx]*kTrain[:,randIdx]\n",
    "        alpha -= grad/np.sqrt(idx+1)\n",
    "        avgAlpha += alpha\n",
    "    avgAlpha /= numTrain\n",
    "    \n",
    "    # Import document-word matrix, convert training labels to {1,-1} and convert feature\n",
    "    # vectors to {0,1} vectors\n",
    "    docWordMat,tokens,yTest = readDocWordMatrix('MATRIX.TEST')\n",
    "    numTest = len(yTest)\n",
    "    yTest[yTest<1] = -1\n",
    "    xTest = (docWordMat>0).astype(int)\n",
    "    \n",
    "    # Compute the kernel for the test data using the radial basis function\n",
    "    xTestSq = np.tile(np.sum(xTest**2,axis=1)[:,None],numTrain)\n",
    "    xTrainSq2 = np.tile(np.sum(xTrain**2,axis=1)[:,None],numTest)\n",
    "    kTest = np.exp(-(xTestSq+xTrainSq2.T-2*np.dot(xTest,xTrain.T))/(2*tau**2))\n",
    "    \n",
    "    predictions = np.dot(kTest,alpha)\n",
    "    numErrors = np.sum(predictions*yTest<=0)\n",
    "    return numErrors/numTest"
   ]
  },
  {
   "cell_type": "code",
   "execution_count": 10,
   "metadata": {},
   "outputs": [
    {
     "name": "stdout",
     "output_type": "stream",
     "text": [
      "Training error is 3.375%\n"
     ]
    }
   ],
   "source": [
    "print('Training error is '+str(100*trainAndTestSVM('MATRIX.TRAIN.50'))+'%')"
   ]
  },
  {
   "cell_type": "code",
   "execution_count": 11,
   "metadata": {},
   "outputs": [
    {
     "name": "stdout",
     "output_type": "stream",
     "text": [
      "Training size = 50 documents\n",
      "Avg. training error is 8.4625%\n",
      "Training size = 100 documents\n",
      "Avg. training error is 4.925%\n",
      "Training size = 200 documents\n",
      "Avg. training error is 2.2375%\n",
      "Training size = 400 documents\n",
      "Avg. training error is 1.7625%\n",
      "Training size = 800 documents\n",
      "Avg. training error is 0.3875%\n",
      "Training size = 1400 documents\n",
      "Avg. training error is 0.0375%\n"
     ]
    }
   ],
   "source": [
    "numAvgErrors = 10\n",
    "for size in trainingSize:\n",
    "    print('Training size = '+size+' documents')\n",
    "    avgError = 0\n",
    "    for idx in range(numAvgErrors):\n",
    "        avgError += trainAndTestSVM('MATRIX.TRAIN.'+size)\n",
    "    print('Avg. training error is '+str(100*avgError/numAvgErrors)+'%')"
   ]
  },
  {
   "cell_type": "markdown",
   "metadata": {},
   "source": [
    "That took *much* longer to train than Naive Bayes, but is clearly superior. Notice that while we actually have worse average performance for a small training set, by the time the training set is only 200 documents we have converged to a performance better than Naive Bayes on the full 2000 document training set, and our best error is almost an order of magnitude smaller than the best Naive Bayes error."
   ]
  },
  {
   "cell_type": "markdown",
   "metadata": {},
   "source": [
    "**Training and testing on different distributions**\n",
    "\n",
    "Consider binary classificaion with two distributions: $D$, the \"clean\" distribution and $D_\\tau$, a distribution identical to $D$ except with a probability $0 \\leq \\tau \\lt 0.5$ of the label being flipped (e.g., whoever labeled the data screws up from time to time).\n",
    "\n",
    "For a given hypothesis $h$, we now have two error quantities: $\\epsilon_0$, the \"true\" generalization error on $D$, and $\\epsilon_\\tau$, the generalization error when drawing samples from $D_\\tau$\n",
    "\n",
    "(a) How are these two related? Note that for the hypothesis to make an error when drawing from $D_\\tau$, one of two things must happen. Either the hypothesis would have made the correct prediction when drawing from $D$ (probability $1-\\epsilon_0$ but the label is flipped (probability $\\tau$), or we would have gotten the wrong answer if drawing from $D$ and the label was not flipped when drawing from $D_\\tau$. Thus\n",
    "\n",
    "$\\epsilon_\\tau = \\epsilon_0 (1-\\tau)+(1-\\epsilon_0)\\tau \\rightarrow \\epsilon_0 = \\left(\\epsilon_\\tau-\\tau\\right)/(1-2\\tau)$.\n",
    "\n",
    "(b) Now, consider a set of hypotheses of size $|H|$, and let's assume our training is done via empirical risk minimization on the corrupted set $S$ drawn from $D_\\tau$, but we test against $D$. Thus, we have the hypothesis $\\hat{h}$, which minimizes the empirical risk in training $\\hat{\\epsilon}_S(h)$ and the true best hypothesis $h^*$ which minimizes the generalization error $\\epsilon_0(h)$.\n",
    "\n",
    "Now, if the uniform convergence result relating empirical and generalization error holds, that is \n",
    "\n",
    "$|\\hat{\\epsilon}_\\tau(h)-\\epsilon_\\tau(h)| \\leq \\tilde{\\gamma}$,\n",
    "\n",
    "we know that\n",
    "\n",
    "$\\epsilon_\\tau(\\hat{h}) \\leq \\epsilon_\\tau(h^*) + 2\\tilde{\\gamma}$. This will be true with probability $1-\\delta$, where $\\delta = 2|H|exp(-2\\tilde{\\gamma}^2 m)$.\n",
    "\n",
    "Using our earlier relation between $\\epsilon_0(h)$ and $\\epsilon_\\tau(h)$, we have\n",
    "\n",
    "$\\epsilon_0(\\hat{h}) = \\left(\\epsilon_\\tau(\\hat{h})-\\tau\\right)/(1-2\\tau)$.\n",
    "\n",
    "Then, with probability $1-\\delta$ uniform convergence holds and\n",
    "\n",
    "$\\epsilon_0(\\hat{h}) \\leq \\left(\\epsilon_\\tau(h^*)+2\\tilde{\\gamma}-\\tau\\right)/(1-2\\tau)$.\n",
    "\n",
    "Applying the relation between $\\epsilon$s once again, we get\n",
    "\n",
    "$\\epsilon_0(\\hat{h}) \\leq \\epsilon_0(h^*)+2\\tilde{\\gamma}/(1-2\\tau)$.\n",
    "\n",
    "So, for fixed $\\delta$,$\\gamma$, a uniform convergence result \n",
    "\n",
    "$\\epsilon_0(\\hat{h}) \\leq \\epsilon_0(h^*)+2\\gamma$\n",
    "\n",
    "holds with probability $1-\\delta$ holds even when training on the corrupted distribution provided\n",
    "\n",
    "$\\delta = 2|H|exp(-2\\tilde{\\gamma}^2 m)$, $\\tilde{\\gamma} = \\gamma(1-2\\tau)$,\n",
    "\n",
    "or\n",
    "\n",
    "$m \\geq \\frac{1}{2\\gamma^2 (1-2\\tau)^2} log(2|H|/\\delta)$.\n",
    "\n",
    "In other words, uniform convergence looks pretty much the same, but to get the same generalization error bounds with the same probability we need to use a lot more training data to counteract the probability of getting bad samples. In particular, every $m$ training samples from the corrupted distribution is like having $(1-2\\tau)^2 m$ samples from the clean distribution.\n",
    "\n",
    "(c) Note that this makes it clear why we are requiring $\\tau \\neq 0.5$. As $\\tau \\rightarrow 0.5$, the number of training samples required to get a bound on the generalization error diverges. This makes sense looking at the relation in (a): when $\\tau = 0.5$, the generalization error $\\epsilon_\\tau = 0.5$. In other words, there is no relation between the generalization error on the corrupted distribution and that on the clean distribution. So, we can't make any guarantees on a bound for the generalization error when testing on the clean distribution, no matter how many samples we draw from the corrupted distribution during training."
   ]
  },
  {
   "cell_type": "markdown",
   "metadata": {
    "collapsed": true
   },
   "source": [
    "**Boosting+Fizzix = ☺**\n",
    "\n",
    "Consider decision stumps as an example of weak learners. For a feature $x$, a decision stump is a hypothesis $\\phi_{s,\\pm}$ defined to be\n",
    "\n",
    "$\\phi_{s,\\pm} = \\pm \\text{sign}(x-s)$.\n",
    "\n",
    "Obviously, in a real problem we'll have multiple features $x_j$, which may not even be real valued, so we'll have an additional degree of freedom in picking a decision stump, but for now we'll consider a single feature $x \\in \\mathbb{R}$.\n",
    "\n",
    "Now, we consider a training set $\\left\\{y^{(i)},x^{(i)}\\right\\}$ with labels $y^{(i)} \\in \\left\\{-1,1\\right\\}$, and a distribution $p_i$ on the training set with $\\sum p_i = 1$, $p_i \\geq 0$. For $\\phi_{s,\\pm}$ to be a weak learner on this training set/distribution we just need\n",
    "\n",
    "$\\sum p_i 1\\left\\{y^{(i)}\\phi_{s,\\pm}<0\\right\\} \\leq \\frac{1}{2}-\\gamma$,\n",
    "\n",
    "for $\\gamma \\gt 0$. For simplicity we'll assume all $x^{(i)}$ are distinct and ordered such that $x^{(i)} > x^{(i+1)}$."
   ]
  },
  {
   "cell_type": "markdown",
   "metadata": {},
   "source": [
    "(a) Suppose we have such a decision stump. Show that for $\\forall s, \\exists m_0(s) \\in \\left\\{1,2,...,m\\right\\}$ such that\n",
    "\n",
    "$\\sum p_i 1\\left\\{y^{(i)}\\phi_{s,\\pm}<0\\right\\} = \\frac{1}{2} \\mp \\frac{1}{2}\\left(\\sum_{i=1}^{m_0}y^{(i)}p_i - \\sum_{i=m_0+1}^{m} y^{(i)} p_i\\right)$\n",
    "\n",
    "Note that, given that the training features are ordered in descending order, for any threshold $s$ we can choose an index $m_0$ such that $x^{(i)} \\geq s$, $i \\leq m_0$, and $x^{(i)} \\lt s$, $i \\gt m_0$.\n",
    "\n",
    "Using this choice for $m_0$, we can see that\n",
    "\n",
    "$\\sum_{i=1}^{m_0} p_i 1\\left\\{y^{(i)}\\phi_{s,\\pm}<0\\right\\} = \\frac{1}{2}\\sum_{i=1}^{m_0} p_i\\left(1\\mp y^{(i)}\\right)$,\n",
    "\n",
    "since the examples are only mislabeled when $y^{(i)} = \\mp1$, and these are the only examples which contribute a non-zero amount to the right hand sum. By similar logic, we see\n",
    "\n",
    "$\\sum_{i=m_0+1}^{m} p_i 1\\left\\{y^{(i)}\\phi_{s,\\pm}<0\\right\\} = \\frac{1}{2}\\sum_{i=m_0+1}^{m} p_i\\left(1\\pm y^{(i)}\\right)$.\n",
    "\n",
    "Summing these two expressions and using the fact that $\\sum p_i = 1$, we recover the desired expression."
   ]
  },
  {
   "cell_type": "markdown",
   "metadata": {},
   "source": [
    "(b) Defining the function\n",
    "\n",
    "$f(m_0) = \\sum_{i=1}^{m_0}y^{(i)}p_i - \\sum_{i=m_0+1}^{m} y^{(i)} p_i$,\n",
    "\n",
    "show that $\\exists \\gamma \\gt 0$ such that for any distribution $p$ on the training set we can define $m_0$ with\n",
    "\n",
    "$\\left|f(m_0)\\right| \\geq 2\\gamma$.\n",
    "\n",
    "\n",
    "Note that $f(m_0)-f(m_0-1) = 2y^{(m_0-1)}p_{m_0-1}$, so that $\\left|f(m_0)-f(m_0-1)\\right| = 2p_{m_0-1}$. Since $\\sum p_i = 1$, $\\forall p$, $\\exists p_i \\geq 1/m$. Thus, we can always choose $m_0$ such that $\\left|f(m_0)-f(m_0-1)\\right| = 2/m$. In this case, it must be true that either $\\left|f(m_0)\\right|$ or $\\left|f(m_0-1)\\right|$ is greater than or equal to $1/m$, so $\\gamma = 1/2m$."
   ]
  },
  {
   "cell_type": "markdown",
   "metadata": {},
   "source": [
    "(c) Based on the answers above, what *edge*, that is, what $\\gamma \\in [0,1/2]$ such that\n",
    "\n",
    "$\\sum p_i 1\\left\\{y^{(i)}\\phi<0\\right\\} \\leq \\frac{1}{2}-\\gamma$,\n",
    "\n",
    "can decision stumps of this form guarantee on a training set where the features are all distinct?\n",
    "\n",
    "Recall that in part (a) we showed that given a threshold $s$ we can choose an index $m_0$ such that\n",
    "\n",
    "$\\sum p_i 1\\left\\{y^{(i)}\\phi_{s,\\pm}<0\\right\\} = \\frac{1}{2} \\mp \\frac{1}{2}\\left|f(m_0)\\right|$.\n",
    "\n",
    "In part (b), we showed that for any distribution $p$ we can find an index $m_0$ such that $|f(m_0)| \\geq 1/m$. Thus, for any training set and distribution we can always pick such an $m_0$, and choose a corresponding threshold $s$ to satisfy the conditions in part (a). In that case, we choose either $\\phi_{s,+}$ or $\\phi_{s,-}$ (depending on the sign of $f(m_0)$) and are guaranteed that \n",
    "\n",
    "$\\sum p_i 1\\left\\{y^{(i)}\\phi<0\\right\\} \\leq \\frac{1}{2}-\\frac{1}{2m}$,\n",
    "\n",
    "so that we can always guarantee an edge of $\\gamma \\geq \\frac{1}{2m}$.\n",
    "\n",
    "Recall that boosting (using *any* weak learner) converges to zero training error after a number of iterations $t = \\frac{\\text{log}(m)}{2\\gamma^2}$, so this bound on $\\gamma$ guarantees the number of iterations satsfies\n",
    "\n",
    "$t \\leq 2 m^2\\text{log}(m)$,\n",
    "\n",
    "and consequently we'll need at most $2 m^2\\text{log}(m)$ decision stumps to make a classifier with zero training error$."
   ]
  },
  {
   "cell_type": "markdown",
   "metadata": {},
   "source": [
    "(d) Now, let's actually implement boosting using decision stumps! First, we obviously need the function which implements a simple decision stump, as well as the function which runs the actual classfier: evaluating $\\sum \\theta_\\tau \\phi_\\tau$ for all stumps $\\phi_\\tau$."
   ]
  },
  {
   "cell_type": "code",
   "execution_count": 12,
   "metadata": {
    "collapsed": true
   },
   "outputs": [],
   "source": [
    "def stump(x,featureInds,thresholds,signs):\n",
    "    return np.sign(x[:,featureInds]-thresholds)*signs"
   ]
  },
  {
   "cell_type": "code",
   "execution_count": 13,
   "metadata": {
    "collapsed": true
   },
   "outputs": [],
   "source": [
    "def evalStumps(x,thetas,featureInds,thresholds,signs):\n",
    "    if thetas.size==0:\n",
    "        return np.zeros(x.shape[0])\n",
    "    return np.dot(stump(x,featureInds,thresholds,signs),thetas)"
   ]
  },
  {
   "cell_type": "markdown",
   "metadata": {},
   "source": [
    "Next, let's make a function to determine the optimal threshold and feature index for a given set of training data and a given distribution on that training data. How to do this most efficiently? Well, let's consider the problem of finding the best threshold when the index $j$ is fixed. First, let's sort all features $x^{(i)}_j$ across all training examples such that\n",
    "\n",
    "$x^{(1)}_j \\leq x^{(2)}_j \\leq ... \\leq x^{(m)}_j$.\n",
    "\n",
    "Now, set aside the issue of the exact threshold value for the moment and consider that we have $m+1$ possible choices of threshold $s_k$, $k \\in \\{0,1,...,m\\}$, where $x^{(k)}_j \\leq s_k \\leq x^{(k+1)}$. Note that in this case we can express the error for threshold $s_k$ as\n",
    "\n",
    "$\\epsilon_k = \\sum_{i=1}^{k} p_i 1\\left\\{y^{(i)}=1\\right\\} + \\sum_{i=k+1}^{m} p_i 1\\left\\{y^{(i)}=-1\\right\\}$.\n",
    "\n",
    "The difference between the error for two consecutive thresholds is thus\n",
    "\n",
    "$\\epsilon_{k+1}-\\epsilon_k = p_{k+1} 1\\left\\{y^{(k+1)}=1\\right\\} - p_{k+1} 1\\left\\{y^{(k+1)}=-1\\right\\}$,\n",
    "\n",
    "giving us the recurrence relation\n",
    "\n",
    "$\\epsilon_{k+1} = \\epsilon_k + p_{k+1}y^{(k+1)}$, $\\epsilon_0 = \\sum p_i 1\\left\\{y^{(i)}=-1\\right\\}$.\n",
    "\n",
    "So, after sorting the training examples for a given feature $x_j$, we can merely iterate over all examples and compute the sequence $\\epsilon_k$, then find the minimum value, all in $O(m)$ time. The sort takes $O(m\\text{log}(m))$ time, and we'll need to iterate over all $n$ features, so the overall run time will be $O(nm\\text{log}(m))$. We'll also keep track of the minimum of $1-\\epsilon_k$. If this is smallest we'll use the opposite sign decision stump."
   ]
  },
  {
   "cell_type": "code",
   "execution_count": 14,
   "metadata": {},
   "outputs": [],
   "source": [
    "def findBestThreshold(x,y,p):\n",
    "    bestErr,bestJ,bestS,bestSign = 1,0,0,1\n",
    "    for jdx,feature in enumerate(x.T):\n",
    "        # sort labels and distribution by feature value\n",
    "        sortedIndices = np.argsort(feature)\n",
    "        fSort = feature[sortedIndices]\n",
    "        ySort = y[sortedIndices]\n",
    "        pSort = p[sortedIndices]\n",
    "        \n",
    "        # iteratively compute the total error for each possible threshold\n",
    "        err = [np.sum(pSort[ySort<0])]\n",
    "        for yK,pK in zip(ySort,pSort):\n",
    "            err.append(err[-1]+pK*yK)\n",
    "        minusErr = [1-e for e in err]\n",
    "        \n",
    "        # pick the best of the error or 1-error\n",
    "        currIdx = np.argmin(err)\n",
    "        currErr = err[currIdx]\n",
    "        currSign = 1\n",
    "        currIdx2 = np.argmin(minusErr)\n",
    "        if minusErr[currIdx2]<currErr:\n",
    "            currIdx = currIdx2\n",
    "            currErr = minusErr[currIdx]\n",
    "            currSign = -1\n",
    "        \n",
    "        # choose the threshold \n",
    "        if currIdx==0:\n",
    "            currS = fSort[0]-1\n",
    "        elif currIdx==fSort.size:\n",
    "            currS = fSort[-1]+1\n",
    "        else:\n",
    "            currS = 0.5*(fSort[currIdx]+fSort[currIdx+1])\n",
    "            \n",
    "        if currErr<bestErr:\n",
    "            bestErr = currErr\n",
    "            bestJ = jdx\n",
    "            bestS = currS\n",
    "            bestSign = currSign\n",
    "    \n",
    "    return bestJ,bestS,bestSign"
   ]
  },
  {
   "cell_type": "markdown",
   "metadata": {},
   "source": [
    "Now, we implement the function which will run the actual boosting algorithm: finding the best decision stump for the current distribution, and selecting its weight in the sum of weak learners, then updating the distribution."
   ]
  },
  {
   "cell_type": "code",
   "execution_count": 15,
   "metadata": {
    "collapsed": true
   },
   "outputs": [],
   "source": [
    "def stumpBooster(x,y,t):\n",
    "    # arrays containing the classfier data\n",
    "    thetas,featureInds,thresholds,signs = np.zeros(t),[0]*t,np.zeros(t),np.zeros(t)\n",
    "    for idx in range(t):\n",
    "        # compute weights and distribution\n",
    "        weights = np.exp(-y*evalStumps(x,thetas,featureInds,thresholds,signs))\n",
    "        p = weights/np.sum(weights)\n",
    "\n",
    "        j,s,sign = findBestThreshold(x,y,p)\n",
    "        featureInds[idx] = j\n",
    "        thresholds[idx] = s\n",
    "        signs[idx] = sign\n",
    "        \n",
    "        margins = y*stump(x,j,s,sign)\n",
    "        Wplus = np.sum(weights[margins>0])\n",
    "        Wminus = np.sum(weights[margins<0])\n",
    "        thetas[idx] = 0.5*np.log(Wplus/Wminus)\n",
    "        \n",
    "    return thetas,featureInds,thresholds,signs"
   ]
  },
  {
   "cell_type": "markdown",
   "metadata": {},
   "source": [
    "Next, we'll implement *random* boosting. For this, we'll iterate $t$ times, but at each iteration we simply choose a random feature index and corresponding random threshold (and we'll just stick with positive decision stumps $\\phi_{s.+}$), and choose it's coefficient $\\theta_t$ optimally."
   ]
  },
  {
   "cell_type": "code",
   "execution_count": 16,
   "metadata": {
    "collapsed": true
   },
   "outputs": [],
   "source": [
    "def randomBooster(x,y,t):\n",
    "    nSamples,nFeatures = x.shape\n",
    "    # arrays containing the classfier data\n",
    "    thetas,featureInds,thresholds,signs = np.zeros(t),[0]*t,np.zeros(t),np.ones(t)\n",
    "    for idx in range(t):\n",
    "        # compute weights and distribution\n",
    "        weights = np.exp(-y*evalStumps(x,thetas,featureInds,thresholds,signs))\n",
    "        p = weights/np.sum(weights)\n",
    "\n",
    "        j = randint(nFeatures)\n",
    "        fSort = np.sort(x[:,j])\n",
    "        sIdx = randint(nSamples+1)\n",
    "        if sIdx==0:\n",
    "            s = fSort[0]-1\n",
    "        elif sIdx==fSort.size:\n",
    "            s = fSort[-1]+1\n",
    "        else:\n",
    "            s = 0.5*(fSort[sIdx]+fSort[sIdx+1])\n",
    "        featureInds[idx] = j\n",
    "        thresholds[idx] = s\n",
    "        \n",
    "        margins = y*stump(x,j,s,1)\n",
    "        Wplus = np.sum(weights[margins>0])\n",
    "        Wminus = np.sum(weights[margins<0])\n",
    "        thetas[idx] = 0.5*np.log(Wplus/Wminus)\n",
    "        \n",
    "    return thetas,featureInds,thresholds,signs"
   ]
  },
  {
   "cell_type": "markdown",
   "metadata": {},
   "source": [
    "Now, let's make a function to plot error over time. That is, given a boosting algorithm that ran for $t$ iterations, we'll compute the success rate on the full training and testing sets including the first $n$ decision stumps ($1 \\lt n \\leq t$) and plot the results as a function of $n$."
   ]
  },
  {
   "cell_type": "code",
   "execution_count": 17,
   "metadata": {
    "collapsed": true
   },
   "outputs": [],
   "source": [
    "def plotErrorOverTime(xTrain,yTrain,xTest,yTest,thetas,featureInds,thresholds,signs):\n",
    "    trainIter = thetas.size\n",
    "    trainErrors,testErrors = [],[]\n",
    "    trainPredictions,testPredictions = np.zeros(yTrain.size),np.zeros(yTest.size)\n",
    "    \n",
    "    for theta,j,s,sign in zip(thetas,featureInds,thresholds,signs):\n",
    "        trainPredictions += evalStumps(xTrain,theta,j,s,sign)\n",
    "        testPredictions += evalStumps(xTest,theta,j,s,sign)\n",
    "        trainErrors.append(np.sum(yTrain*trainPredictions<=0)/yTrain.size)\n",
    "        testErrors.append(np.sum(yTest*testPredictions<=0)/yTest.size)\n",
    "    \n",
    "    plt.plot(trainErrors,c='b',label='Train errors')\n",
    "    plt.plot(testErrors,c='k',label='Test errors')\n",
    "    plt.legend()\n",
    "    plt.show()"
   ]
  },
  {
   "cell_type": "markdown",
   "metadata": {},
   "source": [
    "Now, we'll read in the full testing and training sets and plot the errors over time for using optimal decision stump boosting and random decision stump boosting"
   ]
  },
  {
   "cell_type": "code",
   "execution_count": 18,
   "metadata": {},
   "outputs": [],
   "source": [
    "boostingTrain = np.array(list(csv.reader(open('boosting-train.csv','r'),delimiter=',',quoting=csv.QUOTE_NONNUMERIC)))\n",
    "labelsTrain = boostingTrain[:,0]\n",
    "featuresTrain = boostingTrain[:,1:]\n",
    "\n",
    "boostingTest = np.array(list(csv.reader(open('boosting-test.csv','r'),delimiter=',',quoting=csv.QUOTE_NONNUMERIC)))\n",
    "labelsTest = boostingTest[:,0]\n",
    "featuresTest = boostingTest[:,1:]"
   ]
  },
  {
   "cell_type": "code",
   "execution_count": 19,
   "metadata": {},
   "outputs": [
    {
     "data": {
      "image/png": "[encoded data removed]",
      "text/plain": [
       "<matplotlib.figure.Figure at 0x7f608c04d550>"
      ]
     },
     "metadata": {},
     "output_type": "display_data"
    }
   ],
   "source": [
    "thet,featInd,threshs,sgns = stumpBooster(featuresTrain,labelsTrain,200)\n",
    "plotErrorOverTime(featuresTrain,labelsTrain,featuresTest,labelsTest,thet,featInd,threshs,sgns)"
   ]
  },
  {
   "cell_type": "code",
   "execution_count": 20,
   "metadata": {},
   "outputs": [
    {
     "data": {
      "image/png": "[encoded data removed]",
      "text/plain": [
       "<matplotlib.figure.Figure at 0x7f6070b6be48>"
      ]
     },
     "metadata": {},
     "output_type": "display_data"
    }
   ],
   "source": [
    "thetRand,featIndRand,threshsRand,sgnsRand = randomBooster(featuresTrain,labelsTrain,200)\n",
    "plotErrorOverTime(featuresTrain,labelsTrain,featuresTest,labelsTest,thetRand,featIndRand,threshsRand,sgnsRand)"
   ]
  },
  {
   "cell_type": "markdown",
   "metadata": {},
   "source": [
    "As we can see, optimal boosting fairly quickly (~25 iterations) converges to a training error below where the test eror bottoms out at around 22%. Random boosting converges towards the same performance, but much slower. Even after 200 iterations it has not converged to the minimum error"
   ]
  },
  {
   "cell_type": "code",
   "execution_count": null,
   "metadata": {
    "collapsed": true
   },
   "outputs": [],
   "source": []
  }
 ],
 "metadata": {
  "kernelspec": {
   "display_name": "Python 3",
   "language": "python",
   "name": "python3"
  },
  "language_info": {
   "codemirror_mode": {
    "name": "ipython",
    "version": 3
   },
   "file_extension": ".py",
   "mimetype": "text/x-python",
   "name": "python",
   "nbconvert_exporter": "python",
   "pygments_lexer": "ipython3",
   "version": "3.6.3"
  }
 },
 "nbformat": 4,
 "nbformat_minor": 2
}
