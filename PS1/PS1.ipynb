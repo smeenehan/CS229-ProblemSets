{
 "cells": [
  {
   "cell_type": "code",
   "execution_count": 1,
   "metadata": {
    "collapsed": true
   },
   "outputs": [],
   "source": [
    "import numpy as np\n",
    "from numpy.linalg import inv\n",
    "import matplotlib.pyplot as plt\n",
    "import csv"
   ]
  },
  {
   "cell_type": "markdown",
   "metadata": {},
   "source": [
    "**Logistic Regression**\n",
    "\n",
    "This will deal with the problem of a binary classifier mapping inputs $x^{(i)}$ to one of two targets, $y^{(i)} = \\{1,-1\\}$ using the hypothesis $y^{(i)} = g(\\theta^Tx^{(i)})$, where $g(z) = (1+e^{-z})^{-1}$. Note that, in this case, since $1-g(z) = g(-z)$ we can write the conditional probability as $P(y^{(i)}|x^{(i)},\\theta) = g(y^{(i)}\\theta^Tx^{(i)})$. This leads to a cost function (negative log-likelihood) of \n",
    "\n",
    "$J(\\theta) = -\\frac{1}{N}\\sum log(g(y^{(i)}\\theta^Tx^{(i)}))$, \n",
    "\n",
    "which we want to minimize using Newton's method.\n",
    "\n",
    "Due to the property $g'(z) = g(z)(1-g(z))$, we have the gradient \n",
    "\n",
    "$\\nabla_jJ = \\frac{\\partial J}{\\partial \\theta_j} = -\\frac{1}{N}\\sum g(-y^{(i)}\\theta^Tx^{(i)})y^{(i)}x^{(i)}_j$,\n",
    "\n",
    "and the Hessian\n",
    "\n",
    "$H_{j,k} =  \\frac{\\partial^2 J}{\\partial \\theta_j\\partial \\theta_k} = \\frac{1}{N}\\sum g(-y^{(i)}\\theta^Tx^{(i)})g(y^{(i)}\\theta^Tx^{(i)})x^{(i)}_jx^{(i)}_k$,\n",
    "\n",
    "where we note that $y^{(i)}$ has dropped out since $(y^{(i)})^2 = 1$.\n",
    "\n",
    "To minimize this cost function, we will use Newton's algorithm. This means using the update rule $\\theta := \\theta-H^{-1}\\nabla_jJ$ to converge to the point where the derivative is zero. Since this function is convex, we know this minimum is the global one.\n",
    "\n",
    "First, we define the function which will perform Newton's method to update the weights:"
   ]
  },
  {
   "cell_type": "code",
   "execution_count": 2,
   "metadata": {
    "collapsed": true
   },
   "outputs": [],
   "source": [
    "def logisticRegression(features,targets,weights):\n",
    "    \"\"\"\n",
    "    Inputs:\n",
    "    features: NxM NumPy array of data features\n",
    "    targets: NX1 NumPy array of targets\n",
    "    weights: MX1 NumPy array of weights\n",
    "\n",
    "    Output:\n",
    "    Updates the weights for logistic regression \n",
    "    binary classification using Newton's algorithm,\n",
    "    and returns the new value of the cost function J\n",
    "    \"\"\"\n",
    "    margins = targets*np.dot(features,weights)\n",
    "    N = np.shape(features)[0]\n",
    "    sig = 1.0/(1+np.exp(margins))\n",
    "    gradJ = -np.dot(features.T,targets*sig)/N\n",
    "    hessJ = np.dot(features.T,np.dot(np.diagflat(sig*(1-sig)),features))/N\n",
    "    weights -= np.dot(inv(hessJ),gradJ)\n",
    "    newMargins = targets*np.dot(features,weights)\n",
    "    newJ = np.sum(np.log(1+np.exp(-newMargins)))/N\n",
    "    return newJ"
   ]
  },
  {
   "cell_type": "markdown",
   "metadata": {},
   "source": [
    "Now, we'll read in the provided features (two variables per feature in this case, plus an additional variable equal to 1 added on for the intercept term), targets (list of +1, -1), and initialize the weights to zero."
   ]
  },
  {
   "cell_type": "code",
   "execution_count": 3,
   "metadata": {},
   "outputs": [],
   "source": [
    "features = np.array(list(csv.reader(open('logistic_x.txt','r'),delimiter=' ',quoting=csv.QUOTE_NONNUMERIC))) # Nx2 array\n",
    "(nFeatures,nWeights) = np.shape(features) \n",
    "nWeights += 1\n",
    "intercepts = np.ones((nFeatures,1)) # Nx1 array of ones\n",
    "features = np.concatenate((intercepts,features),axis=1) # Nx3 array, first column is ones"
   ]
  },
  {
   "cell_type": "code",
   "execution_count": 4,
   "metadata": {},
   "outputs": [],
   "source": [
    "targets = np.array(list(csv.reader(open('logistic_y.txt','r'),delimiter=' ',quoting=csv.QUOTE_NONNUMERIC)))"
   ]
  },
  {
   "cell_type": "code",
   "execution_count": 5,
   "metadata": {},
   "outputs": [],
   "source": [
    "weights = np.zeros((nWeights,1))"
   ]
  },
  {
   "cell_type": "markdown",
   "metadata": {},
   "source": [
    "Now, use our logistic regression function to iterate Newton's method. I'm going to be lazy here and just run for a ton of iterations rather than check for convergence, because it's fast."
   ]
  },
  {
   "cell_type": "code",
   "execution_count": 6,
   "metadata": {},
   "outputs": [],
   "source": [
    "for iterNum in range(1000):\n",
    "    JVal = logisticRegression(features,targets,weights)"
   ]
  },
  {
   "cell_type": "code",
   "execution_count": 7,
   "metadata": {},
   "outputs": [
    {
     "data": {
      "text/plain": [
       "(array([[-2.6205116 ],\n",
       "        [ 0.76037154],\n",
       "        [ 1.17194674]]), 0.329147431295712)"
      ]
     },
     "execution_count": 7,
     "metadata": {},
     "output_type": "execute_result"
    }
   ],
   "source": [
    "weights,JVal"
   ]
  },
  {
   "cell_type": "markdown",
   "metadata": {},
   "source": [
    "Okay, let's check that our answer has converged"
   ]
  },
  {
   "cell_type": "code",
   "execution_count": 8,
   "metadata": {},
   "outputs": [
    {
     "data": {
      "text/plain": [
       "(array([[-2.6205116 ],\n",
       "        [ 0.76037154],\n",
       "        [ 1.17194674]]), 0.329147431295712)"
      ]
     },
     "execution_count": 8,
     "metadata": {},
     "output_type": "execute_result"
    }
   ],
   "source": [
    "JVal = logisticRegression(features,targets,weights)\n",
    "weights,JVal"
   ]
  },
  {
   "cell_type": "markdown",
   "metadata": {},
   "source": [
    "Sweet. Now, let's use these weights to compute the hypothesis for each feature, and bin the results to be +1 or -1 (remember the hypothesis is technically continuous). Then, we'll plot the data, with a different symbol for each type. We should see a clear decision boundary between the two types if logistic regression was reasonable for this problem."
   ]
  },
  {
   "cell_type": "code",
   "execution_count": 9,
   "metadata": {
    "collapsed": true
   },
   "outputs": [],
   "source": [
    "values = np.ndarray.flatten(1.0/(1+np.exp(-np.dot(features,weights))))"
   ]
  },
  {
   "cell_type": "markdown",
   "metadata": {},
   "source": [
    "We'll plot the first feature variable on the x-axis, second on the y-axis, and split them into two sets based on the output values."
   ]
  },
  {
   "cell_type": "code",
   "execution_count": 10,
   "metadata": {
    "collapsed": true
   },
   "outputs": [],
   "source": [
    "x1 = features[values>=0.5,1]\n",
    "x2 = features[values<0.5,1]\n",
    "y1 = features[values>=0.5,2]\n",
    "y2 = features[values<0.5,2]\n",
    "xBoundary = features[:,1]\n",
    "yBoundary = -(weights[1]*xBoundary+weights[0])/weights[2]"
   ]
  },
  {
   "cell_type": "code",
   "execution_count": 11,
   "metadata": {},
   "outputs": [
    {
     "data": {
      "image/png": "[encoded data removed]",
      "text/plain": [
       "<matplotlib.figure.Figure at 0x7f689738e710>"
      ]
     },
     "metadata": {},
     "output_type": "display_data"
    }
   ],
   "source": [
    "plt.scatter(x1,y1,s=10,c='b',marker=\"s\",label='h >= 0.5')\n",
    "plt.scatter(x2,y2,s=10,c='r',marker=\"o\",label='h < 0.5')\n",
    "plt.plot(xBoundary,yBoundary)\n",
    "plt.legend(loc='upper left');\n",
    "plt.show()"
   ]
  },
  {
   "cell_type": "code",
   "execution_count": null,
   "metadata": {
    "collapsed": true
   },
   "outputs": [],
   "source": []
  }
 ],
 "metadata": {
  "kernelspec": {
   "display_name": "Python 3",
   "language": "python",
   "name": "python3"
  },
  "language_info": {
   "codemirror_mode": {
    "name": "ipython",
    "version": 3
   },
   "file_extension": ".py",
   "mimetype": "text/x-python",
   "name": "python",
   "nbconvert_exporter": "python",
   "pygments_lexer": "ipython3",
   "version": "3.6.1"
  }
 },
 "nbformat": 4,
 "nbformat_minor": 2
}
