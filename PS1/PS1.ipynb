{
 "cells": [
  {
   "cell_type": "code",
   "execution_count": 1,
   "metadata": {
    "collapsed": true
   },
   "outputs": [],
   "source": [
    "import numpy as np\n",
    "from numpy.linalg import inv\n",
    "import matplotlib.pyplot as plt\n",
    "import csv"
   ]
  },
  {
   "cell_type": "markdown",
   "metadata": {},
   "source": [
    "**Logistic Regression**\n",
    "\n",
    "This will deal with the problem of a binary classifier mapping inputs $x^{(i)}$ to one of two targets, $y^{(i)} = \\{1,-1\\}$ using the hypothesis $y^{(i)} = g(\\theta^Tx^{(i)})$, where $g(z) = (1+e^{-z})^{-1}$. Note that, in this case, since $1-g(z) = g(-z)$ we can write the conditional probability as $P(y^{(i)}|x^{(i)},\\theta) = g(y^{(i)}\\theta^Tx^{(i)})$. This leads to a cost function (negative log-likelihood) of \n",
    "\n",
    "$J(\\theta) = -\\frac{1}{N}\\sum log(g(y^{(i)}\\theta^Tx^{(i)}))$, \n",
    "\n",
    "which we want to minimize using Newton's method.\n",
    "\n",
    "Due to the property $g'(z) = g(z)(1-g(z))$, we have the gradient \n",
    "\n",
    "$\\nabla_jJ = \\frac{\\partial J}{\\partial \\theta_j} = -\\frac{1}{N}\\sum g(-y^{(i)}\\theta^Tx^{(i)})y^{(i)}x^{(i)}_j$,\n",
    "\n",
    "and the Hessian\n",
    "\n",
    "$H_{j,k} =  \\frac{\\partial^2 J}{\\partial \\theta_j\\partial \\theta_k} = \\frac{1}{N}\\sum g(-y^{(i)}\\theta^Tx^{(i)})g(y^{(i)}\\theta^Tx^{(i)})x^{(i)}_jx^{(i)}_k$,\n",
    "\n",
    "where we note that $y^{(i)}$ has dropped out since $(y^{(i)})^2 = 1$.\n",
    "\n",
    "To minimize this cost function, we will use Newton's algorithm. This means using the update rule $\\theta := \\theta-H^{-1}\\nabla_jJ$ to converge to the point where the derivative is zero. Since this function is convex, we know this minimum is the global one.\n",
    "\n",
    "First, we define the function which will perform Newton's method to update the weights:"
   ]
  },
  {
   "cell_type": "code",
   "execution_count": 2,
   "metadata": {
    "collapsed": true
   },
   "outputs": [],
   "source": [
    "def logisticRegression(features,targets,weights):\n",
    "    \"\"\"\n",
    "    Inputs:\n",
    "    features: NxM NumPy array of data features\n",
    "    targets: NX1 NumPy array of targets\n",
    "    weights: MX1 NumPy array of weights\n",
    "\n",
    "    Output:\n",
    "    Updates the weights for logistic regression \n",
    "    binary classification using Newton's algorithm,\n",
    "    and returns the new value of the cost function J\n",
    "    \"\"\"\n",
    "    margins = targets*np.dot(features,weights)\n",
    "    N = np.shape(features)[0]\n",
    "    sig = 1.0/(1+np.exp(margins))\n",
    "    gradJ = -np.dot(features.T,targets*sig)/N\n",
    "    hessJ = np.dot(features.T,np.dot(np.diagflat(sig*(1-sig)),features))/N\n",
    "    weights -= np.dot(inv(hessJ),gradJ)\n",
    "    newMargins = targets*np.dot(features,weights)\n",
    "    newJ = np.sum(np.log(1+np.exp(-newMargins)))/N\n",
    "    return newJ"
   ]
  },
  {
   "cell_type": "markdown",
   "metadata": {},
   "source": [
    "Now, we'll read in the provided features (two variables per feature in this case, plus an additional variable equal to 1 added on for the intercept term), targets (list of +1, -1), and initialize the weights to zero."
   ]
  },
  {
   "cell_type": "code",
   "execution_count": 3,
   "metadata": {
    "collapsed": true
   },
   "outputs": [],
   "source": [
    "features = np.array(list(csv.reader(open('logistic_x.txt','r'),delimiter=' ',quoting=csv.QUOTE_NONNUMERIC))) # Nx2 array\n",
    "(nFeatures,nWeights) = np.shape(features) \n",
    "nWeights += 1\n",
    "intercepts = np.ones((nFeatures,1)) # Nx1 array of ones\n",
    "features = np.concatenate((intercepts,features),axis=1) # Nx3 array, first column is ones"
   ]
  },
  {
   "cell_type": "code",
   "execution_count": 4,
   "metadata": {
    "collapsed": true
   },
   "outputs": [],
   "source": [
    "targets = np.array(list(csv.reader(open('logistic_y.txt','r'),delimiter=' ',quoting=csv.QUOTE_NONNUMERIC)))"
   ]
  },
  {
   "cell_type": "code",
   "execution_count": 5,
   "metadata": {
    "collapsed": true
   },
   "outputs": [],
   "source": [
    "weights = np.zeros((nWeights,1))"
   ]
  },
  {
   "cell_type": "markdown",
   "metadata": {},
   "source": [
    "Now, use our logistic regression function to iterate Newton's method. I'm going to be lazy here and just run for a ton of iterations rather than check for convergence, because it's fast."
   ]
  },
  {
   "cell_type": "code",
   "execution_count": 6,
   "metadata": {
    "collapsed": true
   },
   "outputs": [],
   "source": [
    "for iterNum in range(1000):\n",
    "    JVal = logisticRegression(features,targets,weights)"
   ]
  },
  {
   "cell_type": "code",
   "execution_count": 7,
   "metadata": {},
   "outputs": [
    {
     "data": {
      "text/plain": [
       "(array([[-2.6205116 ],\n",
       "        [ 0.76037154],\n",
       "        [ 1.17194674]]), 0.329147431295712)"
      ]
     },
     "execution_count": 7,
     "metadata": {},
     "output_type": "execute_result"
    }
   ],
   "source": [
    "weights,JVal"
   ]
  },
  {
   "cell_type": "markdown",
   "metadata": {},
   "source": [
    "Okay, let's check that our answer has converged"
   ]
  },
  {
   "cell_type": "code",
   "execution_count": 8,
   "metadata": {},
   "outputs": [
    {
     "data": {
      "text/plain": [
       "(array([[-2.6205116 ],\n",
       "        [ 0.76037154],\n",
       "        [ 1.17194674]]), 0.329147431295712)"
      ]
     },
     "execution_count": 8,
     "metadata": {},
     "output_type": "execute_result"
    }
   ],
   "source": [
    "JVal = logisticRegression(features,targets,weights)\n",
    "weights,JVal"
   ]
  },
  {
   "cell_type": "markdown",
   "metadata": {},
   "source": [
    "Sweet. Now, let's use these weights to compute the hypothesis for each feature, and bin the results to be +1 or -1 (remember the hypothesis is technically continuous). Then, we'll plot the data, with a different symbol for each type. We should see a clear decision boundary between the two types if logistic regression was reasonable for this problem."
   ]
  },
  {
   "cell_type": "code",
   "execution_count": 9,
   "metadata": {
    "collapsed": true
   },
   "outputs": [],
   "source": [
    "values = np.ndarray.flatten(1.0/(1+np.exp(-np.dot(features,weights))))"
   ]
  },
  {
   "cell_type": "markdown",
   "metadata": {},
   "source": [
    "We'll plot the first feature variable on the x-axis, second on the y-axis, and split them into two sets based on the output values."
   ]
  },
  {
   "cell_type": "code",
   "execution_count": 10,
   "metadata": {
    "collapsed": true
   },
   "outputs": [],
   "source": [
    "x1 = features[values>=0.5,1]\n",
    "x2 = features[values<0.5,1]\n",
    "y1 = features[values>=0.5,2]\n",
    "y2 = features[values<0.5,2]\n",
    "xBoundary = features[:,1]\n",
    "yBoundary = -(weights[1]*xBoundary+weights[0])/weights[2]"
   ]
  },
  {
   "cell_type": "code",
   "execution_count": 11,
   "metadata": {},
   "outputs": [
    {
     "data": {
      "image/png": "[encoded data removed]",
      "text/plain": [
       "<matplotlib.figure.Figure at 0x7fe55311c518>"
      ]
     },
     "metadata": {},
     "output_type": "display_data"
    }
   ],
   "source": [
    "plt.scatter(x1,y1,s=10,c='b',marker=\"s\",label='h >= 0.5')\n",
    "plt.scatter(x2,y2,s=10,c='r',marker=\"o\",label='h < 0.5')\n",
    "plt.plot(xBoundary,yBoundary)\n",
    "plt.legend(loc='upper left');\n",
    "plt.show()"
   ]
  },
  {
   "cell_type": "markdown",
   "metadata": {
    "collapsed": true
   },
   "source": [
    "**Poisson Regression and the Exponential Family**\n",
    "\n",
    "Note that the Poisson distribution can be written\n",
    "\n",
    "$p(y;\\lambda) = \\frac{1}{y!}e^{-\\lambda}\\lambda^y = \\frac{1}{y!}e^{log(\\lambda)y-\\lambda}$.\n",
    "\n",
    "This clearly has the form of an exponential family distribution\n",
    "\n",
    "$p(y;\\eta) = b(y)e^{\\eta T(y)-a(\\eta)}$,\n",
    "\n",
    "where $b(y) = \\frac{1}{y!}$, $\\eta = log(\\lambda)$, $T(y) = y$, and $a(\\eta) = e^\\eta$. "
   ]
  },
  {
   "cell_type": "markdown",
   "metadata": {},
   "source": [
    "The canonical response function is defined as\n",
    "\n",
    "$g(\\eta) = E[T(y);\\eta]$,\n",
    "\n",
    "which in this case is merely the expectation value of $y$. Since the mean value of a Poisson distribution is $\\lambda$, this yields\n",
    "\n",
    "$g(\\eta) = e^\\eta$."
   ]
  },
  {
   "cell_type": "markdown",
   "metadata": {},
   "source": [
    "Now, the natural parameter $\\eta$ is taken to be defined as $\\eta = \\theta^T x$. Consider the log-likelihood of a particular training example:\n",
    "\n",
    "$\\mathscr{L}(y^{(i)},\\eta^{(i)}) = log(p(y^{(i)};\\eta^{(i)} = log(b(y^{(i)}))+\\eta^{(i)}T(y^{(i)})-a(\\eta^{(i)})$.\n",
    "\n",
    "We want the stochastic gradient ascent rule for one parameter $\\theta_j$. Taking the derivative we find:\n",
    "\n",
    "$\\frac{\\partial \\mathscr{L}}{\\partial \\theta_j} = \\frac{\\partial \\mathscr{L}}{\\partial \\eta^{(i)}} \\frac{\\partial \\eta^{(i)}}{\\partial \\theta_j} = \\left(T(y^{(i)})-\\frac{\\partial a}{\\partial \\eta^{(i)}}\\right)x^{(i)}_j = \\left(y^{(i)}-e^{\\eta^{(i)}}\\right)x^{(i)}_j$.\n",
    "\n",
    "Thus, the stochastic gradient ascent rule is\n",
    "\n",
    "$\\theta_j := \\theta_j+\\alpha x^{(i)}_j \\left(y^{(i)}-e^{\\theta^T x^{(i)}}\\right)$,\n",
    "\n",
    "or more generically\n",
    "\n",
    "$\\theta_j := \\theta_j+\\alpha x^{(i)}_j \\left(y^{(i)}-g(\\eta^{(i)})\\right)$.\n",
    "\n",
    "Note that the last line is the valid expression for any generalized learning model where the probability distribution belongs to an exponential family."
   ]
  },
  {
   "cell_type": "markdown",
   "metadata": {},
   "source": [
    "**Regression for Denoising Quasar Spectra**\n",
    "\n",
    "First we read in the training data. Format is an (N+1)xM array, where M is the number of distinct wavelengths, listed in row 0, and N is the number of intensity spectra we'll use to train. In this case, we have 450 wavelengths and 200 training examples."
   ]
  },
  {
   "cell_type": "code",
   "execution_count": 12,
   "metadata": {
    "collapsed": true
   },
   "outputs": [],
   "source": [
    "quasarTrain = np.array(list(csv.reader(open('quasar_train.csv','r'),delimiter=',',quoting=csv.QUOTE_NONNUMERIC)))"
   ]
  },
  {
   "cell_type": "code",
   "execution_count": 13,
   "metadata": {
    "collapsed": true
   },
   "outputs": [],
   "source": [
    "(nTraining,nLambdas) = np.shape(quasarTrain)\n",
    "nTraining -= 1"
   ]
  },
  {
   "cell_type": "markdown",
   "metadata": {},
   "source": [
    "Now, consider a locally weighted linear least squares regression, with the cost function\n",
    "\n",
    "$J(\\theta) = \\frac{1}{2}\\sum w^{(i)} \\left(\\theta^T x^{(i)}-y^{(i)}\\right)^2$.\n",
    "\n",
    "Note that, if we define $X$ and $W$ such that $X_{ij} = x^{(i)}_j$ and $W_{ij} = \\frac{1}{2}w^{(i)}\\delta_{ij}$, so that we can write\n",
    "\n",
    "$J(\\theta) = \\left(X\\theta-y\\right)^T W \\left(X\\theta-y\\right)$.\n",
    "\n",
    "We now want the derivative with respect to $\\theta$.\n",
    "\n",
    "$\\begin{align*}\n",
    "\\nabla_\\theta J & = \\nabla_\\theta \\left(\\theta^T X^T WX\\theta-\\theta^T X^T Wy-y^T WX\\theta+y^T Wy\\right) \\\\\n",
    "& = \\nabla_\\theta \\left(tr\\left(\\theta^T X^T WX\\theta\\right)-2tr\\left(\\theta y^T WX\\right)\\right).\n",
    "\\end{align*}$\n",
    "\n",
    "Using the relation $\\nabla_{A^T}tr\\left(ABA^T C\\right) = B^T A^T C^T+BA^T C$ with $A^T = \\theta$, $B = X^T WX$ and $C = I$ and $\\nabla_A tr\\left(AB\\right) = B^T$ with $A = \\theta$ and $B = y^T WX$ we obtain\n",
    "\n",
    "$\\nabla_\\theta J = 2 \\left(X^T WX\\theta-X^T Wy\\right)$.\n",
    "\n",
    "Setting the derivative to zero, we find\n",
    "\n",
    "$\\theta = \\left(X^T WX\\right)^{-1}X^T Wy$"
   ]
  },
  {
   "cell_type": "markdown",
   "metadata": {},
   "source": [
    "Now, if we consider a normal distribution of errors where each training example has a distinct variance, the probability is\n",
    "\n",
    "$p(y^{(i)}|x^{(i)};\\theta) = \\frac{1}{\\sqrt{2\\pi}\\sigma^{(i)}}e^{-(y^{(i)}-\\theta^T x^{(i)})^2/2(\\sigma^{(i)})^2}$,\n",
    "\n",
    "and thus the log-likelihood is\n",
    "\n",
    "$\\mathscr{L} = -\\sum log\\left(\\sqrt{2\\pi}\\sigma^{(i)}\\right)+\\frac{1}{2(\\sigma^{(i)})^2}\\left(y^{(i)}-\\theta^T x^{(i)}\\right)^2$,\n",
    "\n",
    "so that maximixing the likelihood is equivalent to minimizing \n",
    "\n",
    "$J(\\theta) = \\sum \\frac{1}{2(\\sigma^{(i)})^2}\\left(y^{(i)}-\\theta^T x^{(i)}\\right)^2$,\n",
    "\n",
    "which is a weighted least-squares regression with $w^{(i)} = (\\sigma^{(i)})^{-2}$."
   ]
  },
  {
   "cell_type": "markdown",
   "metadata": {},
   "source": [
    "Now, let's perform unweighted linear regression on the first row of training data."
   ]
  },
  {
   "cell_type": "code",
   "execution_count": 14,
   "metadata": {
    "collapsed": true
   },
   "outputs": [],
   "source": [
    "lambdas = quasarTrain[0:1,:].T\n",
    "trainingSpectra = quasarTrain[1:,:].T\n",
    "xVals = np.concatenate((np.ones((nLambdas,1)),lambdas),axis=1) # Nx2 array, first column is ones\n",
    "xMat = np.dot(xVals.T,xVals)\n",
    "theta = np.dot(inv(xMat),np.dot(xVals.T,trainingSpectra[:,0]))"
   ]
  },
  {
   "cell_type": "code",
   "execution_count": 15,
   "metadata": {},
   "outputs": [
    {
     "data": {
      "text/plain": [
       "array([  2.51339906e+00,  -9.81122145e-04])"
      ]
     },
     "execution_count": 15,
     "metadata": {},
     "output_type": "execute_result"
    }
   ],
   "source": [
    "theta"
   ]
  },
  {
   "cell_type": "code",
   "execution_count": 16,
   "metadata": {
    "collapsed": true
   },
   "outputs": [],
   "source": [
    "fitLine = np.dot(xVals,theta)"
   ]
  },
  {
   "cell_type": "code",
   "execution_count": 17,
   "metadata": {},
   "outputs": [
    {
     "data": {
      "image/png": "[encoded data removed]",
      "text/plain": [
       "<matplotlib.figure.Figure at 0x7fe55311c668>"
      ]
     },
     "metadata": {},
     "output_type": "display_data"
    }
   ],
   "source": [
    "plt.plot(lambdas,trainingSpectra[:,0],'k+')\n",
    "plt.plot(lambdas,fitLine,c='r')\n",
    "plt.show()"
   ]
  },
  {
   "cell_type": "markdown",
   "metadata": {},
   "source": [
    "Terrible. Not too shocking, though. Now, here's a function to perform locally weighted linear regression on the dataset using Gaussian weighting with a variance $\\tau$"
   ]
  },
  {
   "cell_type": "code",
   "execution_count": 18,
   "metadata": {
    "collapsed": true
   },
   "outputs": [],
   "source": [
    "def weightedLinearRegression(observedSpectra,lambdas,tau):\n",
    "    fitSpectra = np.zeros(np.shape(observedSpectra))\n",
    "    xVals = np.concatenate((np.ones(np.shape(lambdas)),lambdas),axis=1) # Nx2 array, first column is ones\n",
    "    for idx,x in enumerate(lambdas):\n",
    "        w = np.exp(-(x-lambdas)**2/(2*tau**2))\n",
    "        wMat = np.diagflat(w**2)\n",
    "        xMat = np.dot(xVals.T,np.dot(wMat,xVals))\n",
    "        yMat = np.dot(xVals.T,np.dot(wMat,observedSpectra))\n",
    "        thetaLocal = np.dot(inv(xMat),yMat)\n",
    "        fitSpectra[idx,:] = np.dot([1,x],thetaLocal)\n",
    "    return fitSpectra"
   ]
  },
  {
   "cell_type": "markdown",
   "metadata": {},
   "source": [
    "Let's use this to refit the first set of training data for a variety of $\\tau$s"
   ]
  },
  {
   "cell_type": "code",
   "execution_count": 19,
   "metadata": {
    "scrolled": true
   },
   "outputs": [
    {
     "data": {
      "image/png": "[encoded data removed]",
      "text/plain": [
       "<matplotlib.figure.Figure at 0x7fe5530e1518>"
      ]
     },
     "metadata": {},
     "output_type": "display_data"
    }
   ],
   "source": [
    "taus = [1,5,10,100,1000]\n",
    "fitLocalWeight = np.zeros((nLambdas,len(taus)))\n",
    "for idx,tau in enumerate(taus):\n",
    "    fitLocalWeight[:,idx:idx+1] = weightedLinearRegression(trainingSpectra[:,0:1],lambdas,tau)\n",
    "colors = ['r','b','g','c','m']\n",
    "plt.plot(lambdas,trainingSpectra[:,0],'k+')\n",
    "for idx in range(len(taus)):\n",
    "    plt.plot(lambdas,fitLocalWeight[:,idx],c=colors[idx],label='Tau = '+str(taus[idx]))\n",
    "plt.legend()\n",
    "plt.show()"
   ]
  },
  {
   "cell_type": "markdown",
   "metadata": {
    "collapsed": true
   },
   "source": [
    "As we can see, a moderate value of $\\tau$ like 5 results in a pretty decent fit ot the resonance in the data. Very low $\\tau$ results in overfitting since the fit to $\\theta$ at each point is too local. On the other hand, as $\\tau$ tends to infinity the weights at each point approach unity, so we see a convergence to the poor straight line fit obtained when performing unweighted linear regression.\n",
    "\n",
    "Now, we'll use $\\tau = 5$ to get a smooth fit for all the datasets, and use this as the training data for the remainder"
   ]
  },
  {
   "cell_type": "code",
   "execution_count": 20,
   "metadata": {
    "collapsed": true
   },
   "outputs": [],
   "source": [
    "smoothSpectra = weightedLinearRegression(trainingSpectra,lambdas,5)"
   ]
  },
  {
   "cell_type": "code",
   "execution_count": 21,
   "metadata": {
    "collapsed": true
   },
   "outputs": [],
   "source": [
    "def estimateLeftSpectra(observedData,trainingData):\n",
    "    numNeighb = 3\n",
    "    numTrain = np.shape(trainingData)[1]\n",
    "    numObserved = np.shape(observedData)[1]\n",
    "    leftSize = np.shape(trainingData)[0]-np.shape(observedData)[0]\n",
    "    leftTraining = trainingData[:leftSize,:]\n",
    "    rightTraining = trainingData[leftSize:,:]\n",
    "    estimateData = np.zeros((leftSize,numObserved))\n",
    "    \n",
    "    for idx in range(numObserved):\n",
    "        diffs = rightTraining-np.tile(observedData[:,idx:idx+1],numTrain)\n",
    "        dists = np.sum(diffs**2,0)\n",
    "        neighbInds = np.argsort(dists)[:numNeighb]\n",
    "        maxDist = np.max(dists)\n",
    "        norm = 0\n",
    "        accum = np.zeros(leftSize)\n",
    "        for jdx in neighbInds:\n",
    "            ker = np.max([1-dists[jdx]/maxDist,0])\n",
    "            accum += ker*leftTraining[:,jdx]\n",
    "            norm += ker\n",
    "        estimateData[:,idx] = accum/norm\n",
    "    \n",
    "    return estimateData"
   ]
  },
  {
   "cell_type": "code",
   "execution_count": 22,
   "metadata": {
    "scrolled": true
   },
   "outputs": [
    {
     "data": {
      "image/png": "[encoded data removed]",
      "text/plain": [
       "<matplotlib.figure.Figure at 0x7fe5566885c0>"
      ]
     },
     "metadata": {},
     "output_type": "display_data"
    }
   ],
   "source": [
    "rightTrain = smoothSpectra[lambdas[:,0]>=1300,:]\n",
    "leftTrain = smoothSpectra[lambdas[:,0]<1300,:]\n",
    "leftEstimate = estimateLeftSpectra(rightTrain,smoothSpectra)\n",
    "leftLambdas = lambdas[lambdas[:,0]<1300]\n",
    "dataIndex = np.random.randint(0,high=199)\n",
    "plt.plot(leftLambdas,leftTrain[:,dataIndex],c='k')\n",
    "plt.plot(leftLambdas,leftEstimate[:,dataIndex],c='r')\n",
    "plt.show()"
   ]
  },
  {
   "cell_type": "code",
   "execution_count": 23,
   "metadata": {},
   "outputs": [
    {
     "data": {
      "text/plain": [
       "10.252606988873458"
      ]
     },
     "execution_count": 23,
     "metadata": {},
     "output_type": "execute_result"
    }
   ],
   "source": [
    "trainingErrors = np.sum((leftTrain-leftEstimate)**2,0)\n",
    "np.mean(trainingErrors)"
   ]
  },
  {
   "cell_type": "code",
   "execution_count": 24,
   "metadata": {
    "collapsed": true
   },
   "outputs": [],
   "source": [
    "quasarTest = np.array(list(csv.reader(open('quasar_test.csv','r'),delimiter=',',quoting=csv.QUOTE_NONNUMERIC)))\n",
    "testSpectra = quasarTest[1:,:].T\n",
    "smoothTest = weightedLinearRegression(testSpectra,lambdas,5)\n",
    "rightTest = smoothTest[lambdas[:,0]>=1300,:]\n",
    "leftTest = smoothTest[lambdas[:,0]<1300,:]\n",
    "leftTestEstimate = estimateLeftSpectra(rightTest,smoothSpectra)"
   ]
  },
  {
   "cell_type": "code",
   "execution_count": 25,
   "metadata": {},
   "outputs": [
    {
     "data": {
      "image/png": "[encoded data removed]",
      "text/plain": [
       "<matplotlib.figure.Figure at 0x7fe552e14c18>"
      ]
     },
     "metadata": {},
     "output_type": "display_data"
    }
   ],
   "source": [
    "dataIndex = np.random.randint(0,high=np.shape(testSpectra)[1])\n",
    "plt.plot(leftLambdas,leftTest[:,dataIndex],c='k')\n",
    "plt.plot(leftLambdas,leftTestEstimate[:,dataIndex],c='r')\n",
    "plt.show()"
   ]
  },
  {
   "cell_type": "code",
   "execution_count": 26,
   "metadata": {},
   "outputs": [
    {
     "data": {
      "text/plain": [
       "21.256238183479677"
      ]
     },
     "execution_count": 26,
     "metadata": {},
     "output_type": "execute_result"
    }
   ],
   "source": [
    "testErrors = np.sum((leftTest-leftTestEstimate)**2,0)\n",
    "np.mean(testErrors)"
   ]
  },
  {
   "cell_type": "code",
   "execution_count": null,
   "metadata": {
    "collapsed": true
   },
   "outputs": [],
   "source": []
  }
 ],
 "metadata": {
  "kernelspec": {
   "display_name": "Python 3",
   "language": "python",
   "name": "python3"
  },
  "language_info": {
   "codemirror_mode": {
    "name": "ipython",
    "version": 3
   },
   "file_extension": ".py",
   "mimetype": "text/x-python",
   "name": "python",
   "nbconvert_exporter": "python",
   "pygments_lexer": "ipython3",
   "version": "3.6.2"
  }
 },
 "nbformat": 4,
 "nbformat_minor": 2
}
